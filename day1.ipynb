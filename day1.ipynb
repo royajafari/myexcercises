{
 "cells": [
  {
   "cell_type": "code",
   "execution_count": 3,
   "metadata": {},
   "outputs": [],
   "source": [
    "students = [\n",
    "    {\"name\":\"Ali\", \"age\":21, \"score\":18.5},\n",
    "    {\"name\":\"Sara\", \"age\":22, \"score\":17.0},\n",
    "    {\"name\":\"Reza\", \"age\":20, \"score\":19.2}\n",
    "]"
   ]
  },
  {
   "cell_type": "code",
   "execution_count": 4,
   "metadata": {},
   "outputs": [
    {
     "data": {
      "text/plain": [
       "[{'name': 'Ali', 'age': 21, 'score': 18.5},\n",
       " {'name': 'Sara', 'age': 22, 'score': 17.0},\n",
       " {'name': 'Reza', 'age': 20, 'score': 19.2}]"
      ]
     },
     "execution_count": 4,
     "metadata": {},
     "output_type": "execute_result"
    }
   ],
   "source": [
    "students"
   ]
  },
  {
   "cell_type": "code",
   "execution_count": 5,
   "metadata": {},
   "outputs": [
    {
     "name": "stdout",
     "output_type": "stream",
     "text": [
      "name:Ali, score:18.5\n",
      "name:Sara, score:17.0\n",
      "name:Reza, score:19.2\n"
     ]
    }
   ],
   "source": [
    "for st in students:\n",
    "    print(f\"name:{st['name']}, score:{st['score']}\")"
   ]
  },
  {
   "cell_type": "code",
   "execution_count": 6,
   "metadata": {},
   "outputs": [],
   "source": [
    "import pandas as   pd"
   ]
  },
  {
   "cell_type": "code",
   "execution_count": 7,
   "metadata": {},
   "outputs": [],
   "source": [
    "df = pd.DataFrame(students)"
   ]
  },
  {
   "cell_type": "code",
   "execution_count": 17,
   "metadata": {},
   "outputs": [
    {
     "name": "stdout",
     "output_type": "stream",
     "text": [
      "میانگین نمره ها: 18.233333333333334\n"
     ]
    }
   ],
   "source": [
    "print(\"میانگین نمره ها:\",df[\"score\"].mean())"
   ]
  },
  {
   "cell_type": "code",
   "execution_count": 20,
   "metadata": {},
   "outputs": [
    {
     "name": "stdout",
     "output_type": "stream",
     "text": [
      "بالاترین نمره : 19.2\n",
      "نام دانشجو : Ali\n"
     ]
    }
   ],
   "source": [
    "print(\"بالاترین نمره :\",df[\"score\"].max())\n",
    "print(\"نام دانشجو :\", df[\"name\"].values[0])"
   ]
  },
  {
   "cell_type": "code",
   "execution_count": 8,
   "metadata": {},
   "outputs": [],
   "source": [
    "def accept_f(p_score):\n",
    "    if p_score >= 10:\n",
    "        return \"قبول\"\n",
    "    else:\n",
    "        return \"مردود\""
   ]
  },
  {
   "cell_type": "code",
   "execution_count": 13,
   "metadata": {},
   "outputs": [],
   "source": [
    "v_result = accept_f(9)"
   ]
  },
  {
   "cell_type": "code",
   "execution_count": 14,
   "metadata": {},
   "outputs": [
    {
     "data": {
      "text/plain": [
       "'مردود'"
      ]
     },
     "execution_count": 14,
     "metadata": {},
     "output_type": "execute_result"
    }
   ],
   "source": [
    "v_result"
   ]
  },
  {
   "cell_type": "code",
   "execution_count": null,
   "metadata": {},
   "outputs": [],
   "source": []
  }
 ],
 "metadata": {
  "kernelspec": {
   "display_name": "Python 3",
   "language": "python",
   "name": "python3"
  },
  "language_info": {
   "codemirror_mode": {
    "name": "ipython",
    "version": 3
   },
   "file_extension": ".py",
   "mimetype": "text/x-python",
   "name": "python",
   "nbconvert_exporter": "python",
   "pygments_lexer": "ipython3",
   "version": "3.12.0"
  }
 },
 "nbformat": 4,
 "nbformat_minor": 2
}
